{
 "cells": [
  {
   "cell_type": "code",
   "execution_count": 1,
   "id": "d951bbe3-f785-461a-9f9c-7571d0ae0fae",
   "metadata": {},
   "outputs": [
    {
     "data": {
      "text/plain": [
       "array([0., 0., 0.])"
      ]
     },
     "execution_count": 1,
     "metadata": {},
     "output_type": "execute_result"
    }
   ],
   "source": [
    "import numpy as np\n",
    "\n",
    "def sigmoid(z):\n",
    "    return 1 / (1 + np.exp(-z))\n",
    "\n",
    "lr = 0.01\n",
    "\n",
    "class Perceptron:\n",
    "    def __init__(self):\n",
    "        self.weights = np.zeros(3) # last weight is bias\n",
    "\n",
    "    def activate(self, inputs):\n",
    "        inputs = np.append(inputs, 1)\n",
    "        return sigmoid(np.dot(self.weights, inputs))\n",
    "\n",
    "    def train(self, inputs, actual):\n",
    "        predicted = self.activate(inputs)\n",
    "        inputs = np.append(inputs, 1)\n",
    "        self.weights = np.array([w + lr * (actual - predicted) * inputs[i] for i, w in enumerate(self.weights)])\n",
    "\n",
    "p = Perceptron()\n",
    "p.weights"
   ]
  },
  {
   "cell_type": "code",
   "execution_count": 2,
   "id": "ee7f6df7-896e-4099-9e8d-6fba3759ccb1",
   "metadata": {},
   "outputs": [],
   "source": [
    "epochs = 10000\n",
    "\n",
    "#training\n",
    "for i in range(epochs):\n",
    "    p.train(np.array([1,1]), 1)\n",
    "    p.train(np.array([0,1]), 0)\n",
    "    p.train(np.array([1,0]), 0)\n",
    "    p.train(np.array([0,0]), 0)"
   ]
  },
  {
   "cell_type": "code",
   "execution_count": 3,
   "id": "69fa5408-a7a6-4a2d-aebb-b8748ab9cee4",
   "metadata": {},
   "outputs": [
    {
     "data": {
      "text/plain": [
       "array([ 5.56977945,  5.56916692, -8.53444979])"
      ]
     },
     "execution_count": 3,
     "metadata": {},
     "output_type": "execute_result"
    }
   ],
   "source": [
    "p.weights"
   ]
  },
  {
   "cell_type": "code",
   "execution_count": 4,
   "id": "6d80b1d5-77b9-4197-98f4-35c2b8bfdf4a",
   "metadata": {},
   "outputs": [],
   "source": [
    "iters = 10000\n",
    "sse = 0\n",
    "#training\n",
    "for i in range(iters):\n",
    "    sample = np.random.randint(2, size=2)\n",
    "    and_value = int(sample[0] and sample[1]) # calculate actual value\n",
    "    sse += (p.activate(sample) - and_value) ** 2"
   ]
  },
  {
   "cell_type": "code",
   "execution_count": 5,
   "id": "fc0e995e-7868-40dc-8a2f-07713acdea3b",
   "metadata": {},
   "outputs": [
    {
     "data": {
      "text/plain": [
       "0.0023765239796849705"
      ]
     },
     "execution_count": 5,
     "metadata": {},
     "output_type": "execute_result"
    }
   ],
   "source": [
    "mse = 1 / iters * sse\n",
    "mse"
   ]
  },
  {
   "cell_type": "code",
   "execution_count": null,
   "id": "eb3075b8-04d4-44c0-97dc-a02bc3bd724a",
   "metadata": {},
   "outputs": [],
   "source": []
  }
 ],
 "metadata": {
  "kernelspec": {
   "display_name": "Python 3 (ipykernel)",
   "language": "python",
   "name": "python3"
  },
  "language_info": {
   "codemirror_mode": {
    "name": "ipython",
    "version": 3
   },
   "file_extension": ".py",
   "mimetype": "text/x-python",
   "name": "python",
   "nbconvert_exporter": "python",
   "pygments_lexer": "ipython3",
   "version": "3.12.4"
  }
 },
 "nbformat": 4,
 "nbformat_minor": 5
}
