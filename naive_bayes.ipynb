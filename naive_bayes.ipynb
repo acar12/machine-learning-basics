{
 "cells": [
  {
   "cell_type": "code",
   "execution_count": 1,
   "id": "183def4f-93b1-451c-973d-42670b3a6b2f",
   "metadata": {},
   "outputs": [
    {
     "data": {
      "text/html": [
       "<div>\n",
       "<style scoped>\n",
       "    .dataframe tbody tr th:only-of-type {\n",
       "        vertical-align: middle;\n",
       "    }\n",
       "\n",
       "    .dataframe tbody tr th {\n",
       "        vertical-align: top;\n",
       "    }\n",
       "\n",
       "    .dataframe thead th {\n",
       "        text-align: right;\n",
       "    }\n",
       "</style>\n",
       "<table border=\"1\" class=\"dataframe\">\n",
       "  <thead>\n",
       "    <tr style=\"text-align: right;\">\n",
       "      <th></th>\n",
       "      <th>0</th>\n",
       "      <th>1</th>\n",
       "    </tr>\n",
       "  </thead>\n",
       "  <tbody>\n",
       "    <tr>\n",
       "      <th>0</th>\n",
       "      <td>ham</td>\n",
       "      <td>Go until jurong point, crazy.. Available only ...</td>\n",
       "    </tr>\n",
       "    <tr>\n",
       "      <th>1</th>\n",
       "      <td>ham</td>\n",
       "      <td>Ok lar... Joking wif u oni...</td>\n",
       "    </tr>\n",
       "    <tr>\n",
       "      <th>2</th>\n",
       "      <td>spam</td>\n",
       "      <td>Free entry in 2 a wkly comp to win FA Cup fina...</td>\n",
       "    </tr>\n",
       "    <tr>\n",
       "      <th>3</th>\n",
       "      <td>ham</td>\n",
       "      <td>U dun say so early hor... U c already then say...</td>\n",
       "    </tr>\n",
       "    <tr>\n",
       "      <th>4</th>\n",
       "      <td>ham</td>\n",
       "      <td>Nah I don't think he goes to usf, he lives aro...</td>\n",
       "    </tr>\n",
       "    <tr>\n",
       "      <th>...</th>\n",
       "      <td>...</td>\n",
       "      <td>...</td>\n",
       "    </tr>\n",
       "    <tr>\n",
       "      <th>5567</th>\n",
       "      <td>spam</td>\n",
       "      <td>This is the 2nd time we have tried 2 contact u...</td>\n",
       "    </tr>\n",
       "    <tr>\n",
       "      <th>5568</th>\n",
       "      <td>ham</td>\n",
       "      <td>Will ü b going to esplanade fr home?</td>\n",
       "    </tr>\n",
       "    <tr>\n",
       "      <th>5569</th>\n",
       "      <td>ham</td>\n",
       "      <td>Pity, * was in mood for that. So...any other s...</td>\n",
       "    </tr>\n",
       "    <tr>\n",
       "      <th>5570</th>\n",
       "      <td>ham</td>\n",
       "      <td>The guy did some bitching but I acted like i'd...</td>\n",
       "    </tr>\n",
       "    <tr>\n",
       "      <th>5571</th>\n",
       "      <td>ham</td>\n",
       "      <td>Rofl. Its true to its name</td>\n",
       "    </tr>\n",
       "  </tbody>\n",
       "</table>\n",
       "<p>5572 rows × 2 columns</p>\n",
       "</div>"
      ],
      "text/plain": [
       "         0                                                  1\n",
       "0      ham  Go until jurong point, crazy.. Available only ...\n",
       "1      ham                      Ok lar... Joking wif u oni...\n",
       "2     spam  Free entry in 2 a wkly comp to win FA Cup fina...\n",
       "3      ham  U dun say so early hor... U c already then say...\n",
       "4      ham  Nah I don't think he goes to usf, he lives aro...\n",
       "...    ...                                                ...\n",
       "5567  spam  This is the 2nd time we have tried 2 contact u...\n",
       "5568   ham               Will ü b going to esplanade fr home?\n",
       "5569   ham  Pity, * was in mood for that. So...any other s...\n",
       "5570   ham  The guy did some bitching but I acted like i'd...\n",
       "5571   ham                         Rofl. Its true to its name\n",
       "\n",
       "[5572 rows x 2 columns]"
      ]
     },
     "execution_count": 1,
     "metadata": {},
     "output_type": "execute_result"
    }
   ],
   "source": [
    "import numpy as np\n",
    "import pandas as pd\n",
    "\n",
    "df = pd.read_csv(\"SMSSpamCollection\", sep=\"\\t\", header=None)\n",
    "df"
   ]
  },
  {
   "cell_type": "code",
   "execution_count": 2,
   "id": "01cd723b-b4a0-4a34-ba0f-8eacc747c753",
   "metadata": {},
   "outputs": [],
   "source": [
    "train = df.sample(frac=0.8)\n",
    "test = df.drop(train.index)"
   ]
  },
  {
   "cell_type": "code",
   "execution_count": 3,
   "id": "4c3d2ef7-70ca-438d-ba81-c959aa4ea298",
   "metadata": {},
   "outputs": [
    {
     "data": {
      "text/plain": [
       "0\n",
       "ham     3862\n",
       "spam     596\n",
       "Name: count, dtype: int64"
      ]
     },
     "execution_count": 3,
     "metadata": {},
     "output_type": "execute_result"
    }
   ],
   "source": [
    "train[0].value_counts()"
   ]
  },
  {
   "cell_type": "code",
   "execution_count": 4,
   "id": "11654399-7976-40f8-9894-c112fac0291c",
   "metadata": {},
   "outputs": [
    {
     "data": {
      "text/plain": [
       "0\n",
       "ham     963\n",
       "spam    151\n",
       "Name: count, dtype: int64"
      ]
     },
     "execution_count": 4,
     "metadata": {},
     "output_type": "execute_result"
    }
   ],
   "source": [
    "test[0].value_counts()"
   ]
  },
  {
   "cell_type": "code",
   "execution_count": 5,
   "id": "e75cf3bc-ce32-4c60-a478-03e6bc37d24e",
   "metadata": {},
   "outputs": [],
   "source": [
    "from string import punctuation, digits\n",
    "import re\n",
    "\n",
    "class BernoulliNB:\n",
    "    def __init__(self):\n",
    "        pass\n",
    "        \n",
    "    def get_words(self, X):\n",
    "        X = re.sub(f\"[{punctuation + digits}]\", \"\", X.lower())\n",
    "        words = set(X.split())\n",
    "        return words\n",
    "        \n",
    "    def learn_vocabulary(self, X_list):\n",
    "        sets = [self.get_words(X) for X in X_list]\n",
    "        all_words = set.union(*sets)\n",
    "        self.all_words = all_words\n",
    "        booleans = np.array([[int(word in s) for word in all_words] for s in sets])\n",
    "        return booleans\n",
    "                \n",
    "    def train(self, X_list, y_list):\n",
    "        booleans = self.learn_vocabulary(X_list)\n",
    "        classes_words = [np.array([boolean for boolean, y in zip(booleans, y_list) if y == class_]) for class_ in np.unique(y_list)]\n",
    "        self.num_docs_class = np.array([len(class_) for class_ in classes_words])\n",
    "        classes_words = [class_.sum(axis=0) for class_ in classes_words]\n",
    "        self.prob_words = [class_ / self.num_docs_class[i] + 0.001 for i, class_ in enumerate(classes_words)]\n",
    "\n",
    "    def predict(self, X):\n",
    "        X = self.get_words(X)\n",
    "        X = np.array([int(word in X) for word in self.all_words])\n",
    "        \n",
    "        log_prior = np.log(self.num_docs_class / np.sum(self.num_docs_class))\n",
    "        log_prob = [np.sum([np.log(prob) * x + np.log(1 - prob) * (1 - x) for x, prob in zip(X, class_probs)])\n",
    "                        for class_probs in self.prob_words]\n",
    "        class_prob = log_prior + log_prob\n",
    "\n",
    "        if class_prob[0] > class_prob[1]:\n",
    "            return \"ham\"\n",
    "        else:\n",
    "            return \"spam\"\n",
    "        \n",
    "        "
   ]
  },
  {
   "cell_type": "code",
   "execution_count": 6,
   "id": "a696387f-30a8-44cb-933d-4a462276fcae",
   "metadata": {},
   "outputs": [],
   "source": [
    "model = BernoulliNB()\n",
    "model.train(train[1], train[0])\n"
   ]
  },
  {
   "cell_type": "code",
   "execution_count": 7,
   "id": "ba53ccfb-f4dd-4b06-bf2b-8093d4933c33",
   "metadata": {},
   "outputs": [],
   "source": [
    "score = 0\n",
    "for i, row in test.iterrows():\n",
    "    class_ = row[0]\n",
    "    if class_ == model.predict(row[1]):\n",
    "        score += 1"
   ]
  },
  {
   "cell_type": "code",
   "execution_count": 8,
   "id": "0e955ed8-4a99-4ba1-9f1f-d412d0336463",
   "metadata": {},
   "outputs": [
    {
     "name": "stdout",
     "output_type": "stream",
     "text": [
      "0.9847396768402155\n"
     ]
    }
   ],
   "source": [
    "accuracy = score / len(test)\n",
    "print(accuracy)"
   ]
  },
  {
   "cell_type": "code",
   "execution_count": null,
   "id": "3503d8fb-f943-4589-9657-ca770f1842e1",
   "metadata": {},
   "outputs": [],
   "source": []
  }
 ],
 "metadata": {
  "kernelspec": {
   "display_name": "Python 3 (ipykernel)",
   "language": "python",
   "name": "python3"
  },
  "language_info": {
   "codemirror_mode": {
    "name": "ipython",
    "version": 3
   },
   "file_extension": ".py",
   "mimetype": "text/x-python",
   "name": "python",
   "nbconvert_exporter": "python",
   "pygments_lexer": "ipython3",
   "version": "3.12.4"
  }
 },
 "nbformat": 4,
 "nbformat_minor": 5
}
