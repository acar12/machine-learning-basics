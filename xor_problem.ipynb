{
 "cells": [
  {
   "cell_type": "code",
   "execution_count": 1,
   "id": "edbb4a44-9ddd-4cba-a558-e3dcc8f8df69",
   "metadata": {},
   "outputs": [],
   "source": [
    "import numpy as np\n",
    "weights = np.random.randn(6)\n",
    "bias = np.zeros(3)\n",
    "\n",
    "def sigmoid(z):\n",
    "  return 1 / (1 + np.exp(-z))\n",
    "\n",
    "def sigmoid_derivative(z):\n",
    "    return sigmoid(z) * (1 - sigmoid(z))\n",
    "\n",
    "def feedforward(inputs):\n",
    "    x1, x2 = inputs\n",
    "    s1 = weights[0] * x1 + weights[2] * x2 + bias[0]\n",
    "    a1 = sigmoid(s1)\n",
    "    s2 = weights[1] * x1 + weights[3] * x2 + bias[1]\n",
    "    a2 = sigmoid(s2)\n",
    "    s3 = weights[4] * a1 + weights[5] * a2 + bias[2]\n",
    "    a3 = sigmoid(s3)\n",
    "    return (s1, s2, s3), (a1, a2, a3)\n",
    "\n",
    "def actual(a, b):\n",
    "    return a ^ b\n",
    "\n",
    "def predict(inputs):\n",
    "    return feedforward(inputs)[1][2]\n",
    "\n",
    "lr = 0.03\n",
    "\n",
    "def backpropagation_backpass(input_sample, label):\n",
    "    (s1, s2, s3), (a1, a2, a3) = feedforward(input_sample) \n",
    "    dSSR = -2 * (label - a3)\n",
    "    dPredicted = sigmoid_derivative(s3)\n",
    "    dPred_dS3 = dSSR * dPredicted\n",
    "    \n",
    "    bias[2] += -lr * (dPredicted * dSSR * 1)\n",
    "    weights[4] += -lr * (dPred_dS3 * a1)\n",
    "    weights[5] += -lr * (dPred_dS3 * a2)\n",
    "\n",
    "    dS3_dS1 = weights[4] * sigmoid_derivative(s1)\n",
    "    dS3_dS2 = weights[5] * sigmoid_derivative(s2)\n",
    "\n",
    "    bias[0] += -lr * (dPred_dS3 * dS3_dS1 * 1)\n",
    "    bias[1] += -lr * (dPred_dS3 * dS3_dS2 * 1)\n",
    "    weights[0] += -lr * (dPred_dS3 * dS3_dS1 * input_sample[0])\n",
    "    weights[2] += -lr * (dPred_dS3 * dS3_dS1 * input_sample[1])\n",
    "    weights[1] += -lr * (dPred_dS3 * dS3_dS2 * input_sample[0])\n",
    "    weights[3] += -lr * (dPred_dS3 * dS3_dS2 * input_sample[1])\n",
    "    \n",
    "for i in range(100000):\n",
    "    backpropagation_backpass([1, 0], 1)\n",
    "    backpropagation_backpass([0, 1], 1)\n",
    "    backpropagation_backpass([0, 0], 0)\n",
    "    backpropagation_backpass([1, 1], 0)"
   ]
  },
  {
   "cell_type": "code",
   "execution_count": 2,
   "id": "020e59e1-e722-4386-b3b6-8518d53f8529",
   "metadata": {},
   "outputs": [
    {
     "data": {
      "text/plain": [
       "(array([  6.5652577 ,   4.65947808,   6.57909165,   4.66285313,\n",
       "          9.78922113, -10.49670959]),\n",
       " array([-2.93245985, -7.15215925, -4.5349648 ]))"
      ]
     },
     "execution_count": 2,
     "metadata": {},
     "output_type": "execute_result"
    }
   ],
   "source": [
    "weights, bias"
   ]
  },
  {
   "cell_type": "code",
   "execution_count": 3,
   "id": "50013671-82d0-45cc-b9c0-1007714eab8c",
   "metadata": {},
   "outputs": [
    {
     "data": {
      "text/plain": [
       "0.9852446932275641"
      ]
     },
     "execution_count": 3,
     "metadata": {},
     "output_type": "execute_result"
    }
   ],
   "source": [
    "predict([0,1])"
   ]
  },
  {
   "cell_type": "code",
   "execution_count": 4,
   "id": "0177ac5f-d49d-4304-90d9-0ce8d0054b85",
   "metadata": {},
   "outputs": [
    {
     "data": {
      "text/plain": [
       "0.9852319824632731"
      ]
     },
     "execution_count": 4,
     "metadata": {},
     "output_type": "execute_result"
    }
   ],
   "source": [
    "predict([1,0])"
   ]
  },
  {
   "cell_type": "code",
   "execution_count": 5,
   "id": "86c0dedb-18bc-46b8-be0a-c327d6e3f7ad",
   "metadata": {},
   "outputs": [
    {
     "data": {
      "text/plain": [
       "0.015257527496534268"
      ]
     },
     "execution_count": 5,
     "metadata": {},
     "output_type": "execute_result"
    }
   ],
   "source": [
    "predict([1,1])"
   ]
  },
  {
   "cell_type": "code",
   "execution_count": 6,
   "id": "c65d764d-2d68-46b0-8c5b-d62ec0bb6037",
   "metadata": {},
   "outputs": [
    {
     "data": {
      "text/plain": [
       "0.017155741747430342"
      ]
     },
     "execution_count": 6,
     "metadata": {},
     "output_type": "execute_result"
    }
   ],
   "source": [
    "predict([0,0])"
   ]
  },
  {
   "cell_type": "code",
   "execution_count": null,
   "id": "8337816a-2d70-40a1-81e4-9dd569f8d79b",
   "metadata": {},
   "outputs": [],
   "source": []
  }
 ],
 "metadata": {
  "kernelspec": {
   "display_name": "Python 3 (ipykernel)",
   "language": "python",
   "name": "python3"
  },
  "language_info": {
   "codemirror_mode": {
    "name": "ipython",
    "version": 3
   },
   "file_extension": ".py",
   "mimetype": "text/x-python",
   "name": "python",
   "nbconvert_exporter": "python",
   "pygments_lexer": "ipython3",
   "version": "3.12.4"
  }
 },
 "nbformat": 4,
 "nbformat_minor": 5
}
